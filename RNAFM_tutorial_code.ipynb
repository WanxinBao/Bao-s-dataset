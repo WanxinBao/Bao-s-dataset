{
  "metadata": {
    "colab": {
      "provenance": [],
      "gpuType": "T4",
      "machine_shape": "hm",
      "name": "RNAFM_tutorial_code",
      "include_colab_link": true
    },
    "kernelspec": {
      "name": "python3",
      "display_name": "Python 3",
      "language": "python"
    },
    "language_info": {
      "name": "python",
      "version": "3.10.13",
      "mimetype": "text/x-python",
      "codemirror_mode": {
        "name": "ipython",
        "version": 3
      },
      "pygments_lexer": "ipython3",
      "nbconvert_exporter": "python",
      "file_extension": ".py"
    },
    "accelerator": "GPU",
    "kaggle": {
      "accelerator": "gpu",
      "dataSources": [
        {
          "sourceId": 7916214,
          "sourceType": "datasetVersion",
          "datasetId": 4650806
        }
      ],
      "dockerImageVersionId": 30674,
      "isInternetEnabled": true,
      "language": "python",
      "sourceType": "notebook",
      "isGpuEnabled": true
    }
  },
  "nbformat_minor": 0,
  "nbformat": 4,
  "cells": [
    {
      "cell_type": "markdown",
      "metadata": {
        "id": "view-in-github",
        "colab_type": "text"
      },
      "source": [
        "<a href=\"https://colab.research.google.com/github/WanxinBao/Bao-s-dataset/blob/main/RNAFM_tutorial_code.ipynb\" target=\"_parent\"><img src=\"https://colab.research.google.com/assets/colab-badge.svg\" alt=\"Open In Colab\"/></a>"
      ]
    },
    {
      "source": [
        "# IMPORTANT: RUN THIS CELL IN ORDER TO IMPORT YOUR KAGGLE DATA SOURCES,\n",
        "# THEN FEEL FREE TO DELETE THIS CELL.\n",
        "# NOTE: THIS NOTEBOOK ENVIRONMENT DIFFERS FROM KAGGLE'S PYTHON\n",
        "# ENVIRONMENT SO THERE MAY BE MISSING LIBRARIES USED BY YOUR\n",
        "# NOTEBOOK.\n",
        "import kagglehub\n",
        "team93_rnafm_tutorial_path = kagglehub.dataset_download('team93/rnafm-tutorial')\n",
        "\n",
        "print('Data source import complete.')\n"
      ],
      "metadata": {
        "id": "nHyCGV8BXS14"
      },
      "cell_type": "code",
      "outputs": [],
      "execution_count": null
    },
    {
      "cell_type": "markdown",
      "source": [
        "# RNA-FM Tutorial"
      ],
      "metadata": {
        "id": "VQmZkG47B96F"
      }
    },
    {
      "cell_type": "markdown",
      "source": [
        "### RNA-FM\n",
        "\n",
        "An RNA foundation model (RNA-FM) was pre-trained on all the 23 million non-coding RNA sequences through self-supervised learning. With this approach, the pre-trained RNA-FM could infer sequential and evolutionary information of non-coding RNAs without using any labels.\n",
        "\n",
        "Reference:\n",
        "Chen, Jiayang, et al. \"Interpretable RNA foundation model from unannotated data for highly accurate RNA structure and function predictions.\" arXiv preprint arXiv:2204.00300 (2022).\n",
        "\n",
        "Link:\n",
        "\n",
        "Paper: https://arxiv.org/abs/2204.00300\n",
        "\n",
        "GitHub: https://github.com/ml4bio/RNA-FM"
      ],
      "metadata": {
        "id": "3vPgQ2R-XS19"
      }
    },
    {
      "cell_type": "markdown",
      "source": [
        "### Workflow of our tutorial\n",
        "\n",
        "**Preparation**\n",
        "1. install the RNA-FM package\n",
        "2. load the necessary libraries\n",
        "\n",
        "**Task 1. RNA family clustering**\n",
        "\n",
        "Goal: to demonstrate that RNA-FM embeddings contain biologically meaningful information\n",
        "\n",
        "1. read RNA sequences for each family from FASTA files\n",
        "2. generate the RNA-FM embeddings for each sequence\n",
        "3. t-SNE dimension reduction on the generated embeddings\n",
        "4. plot the embeddings in the 2D space\n",
        "\n",
        "**Task 2. RNA type classification**\n",
        "\n",
        "Goal: to demonstrate how to use RNA-FM for downstream applications\n",
        "\n",
        "1. read RNA sequences for each type from a FASTA file\n",
        "2. generate RNA-FM embeddings for each sequence\n",
        "3. build the dataset and model\n",
        "4. train and validate the model\n",
        "5. test the model on a dataset excluded from training"
      ],
      "metadata": {
        "id": "LNgafUcPXS1-"
      }
    },
    {
      "cell_type": "markdown",
      "source": [
        "## Install RNA-FM"
      ],
      "metadata": {
        "id": "Cqup0jpT_vC2"
      }
    },
    {
      "cell_type": "code",
      "source": [
        "!python --version"
      ],
      "metadata": {
        "execution": {
          "iopub.status.busy": "2024-05-28T08:56:39.918235Z",
          "iopub.execute_input": "2024-05-28T08:56:39.918671Z",
          "iopub.status.idle": "2024-05-28T08:56:40.892239Z",
          "shell.execute_reply.started": "2024-05-28T08:56:39.91864Z",
          "shell.execute_reply": "2024-05-28T08:56:40.891198Z"
        },
        "trusted": true,
        "id": "hmZmsFuLXS1_"
      },
      "execution_count": null,
      "outputs": []
    },
    {
      "cell_type": "markdown",
      "source": [
        "Note: If the following pip installation does not work, it is most likely due to the Internet restrictions imposed by Kaggle. To resolve this, you would have to verify your account with a phone number so that Internet connection can be enabled.\n",
        "\n",
        "To summarize:\n",
        "verfiy, refresh, then open this notebook and try again."
      ],
      "metadata": {
        "id": "_rT437-MXS1_"
      }
    },
    {
      "cell_type": "code",
      "source": [
        "!pip install rna-fm\n",
        "\n",
        "!pip install biopython"
      ],
      "metadata": {
        "id": "UjmcCX_WRKJ9",
        "execution": {
          "iopub.status.busy": "2024-05-28T08:56:40.895062Z",
          "iopub.execute_input": "2024-05-28T08:56:40.895889Z",
          "iopub.status.idle": "2024-05-28T08:57:08.451627Z",
          "shell.execute_reply.started": "2024-05-28T08:56:40.895845Z",
          "shell.execute_reply": "2024-05-28T08:57:08.450616Z"
        },
        "trusted": true
      },
      "execution_count": null,
      "outputs": []
    },
    {
      "cell_type": "markdown",
      "source": [
        "If pip install fails to install the required packages, we can also uncomment the following cell to install it from source."
      ],
      "metadata": {
        "id": "p9ETAJQcNQoZ"
      }
    },
    {
      "cell_type": "code",
      "source": [
        "# !git clone https://github.com/ml4bio/RNA-FM.git\n",
        "\n",
        "# !pwd\n",
        "# !ls\n",
        "# %cd ./RNA-FM\n",
        "\n",
        "# !python setup.py install"
      ],
      "metadata": {
        "id": "rdqDw0G4B7HZ",
        "execution": {
          "iopub.status.busy": "2024-05-28T08:57:08.453028Z",
          "iopub.execute_input": "2024-05-28T08:57:08.453332Z",
          "iopub.status.idle": "2024-05-28T08:57:08.457981Z",
          "shell.execute_reply.started": "2024-05-28T08:57:08.453304Z",
          "shell.execute_reply": "2024-05-28T08:57:08.456974Z"
        },
        "trusted": true
      },
      "execution_count": null,
      "outputs": []
    },
    {
      "cell_type": "code",
      "source": [
        "import fm  # for development with RNA-FM\n",
        "\n",
        "from pathlib import Path\n",
        "\n",
        "import torch\n",
        "import torch.nn as nn\n",
        "from torch.utils.data import Dataset, DataLoader\n",
        "\n",
        "import numpy as np\n",
        "\n",
        "from Bio import SeqIO  # for file parsing\n",
        "\n",
        "from sklearn.manifold import TSNE  # for dimension reduction\n",
        "\n",
        "from sklearn.model_selection import train_test_split  # for splitting train/val/test\n",
        "\n",
        "from tqdm.notebook import tqdm  # for showing progress\n",
        "\n",
        "import matplotlib.pyplot as plt"
      ],
      "metadata": {
        "id": "umxEPuSrXp4G",
        "execution": {
          "iopub.status.busy": "2024-05-28T08:57:08.459124Z",
          "iopub.execute_input": "2024-05-28T08:57:08.459393Z",
          "iopub.status.idle": "2024-05-28T08:57:17.84501Z",
          "shell.execute_reply.started": "2024-05-28T08:57:08.459361Z",
          "shell.execute_reply": "2024-05-28T08:57:17.844038Z"
        },
        "trusted": true
      },
      "execution_count": null,
      "outputs": []
    },
    {
      "cell_type": "code",
      "source": [
        "if torch.cuda.is_available():\n",
        "    device = 'cuda'\n",
        "else:\n",
        "    device = 'cpu'\n",
        "\n",
        "print(f'using {device} device')\n",
        "\n",
        "data_dir = '../input/rnafm-tutorial/'\n",
        "!ls '../input/rnafm-tutorial/'"
      ],
      "metadata": {
        "id": "khGydI8MlM-c",
        "execution": {
          "iopub.status.busy": "2024-05-28T08:57:17.847517Z",
          "iopub.execute_input": "2024-05-28T08:57:17.847953Z",
          "iopub.status.idle": "2024-05-28T08:57:18.866482Z",
          "shell.execute_reply.started": "2024-05-28T08:57:17.847927Z",
          "shell.execute_reply": "2024-05-28T08:57:18.865198Z"
        },
        "trusted": true
      },
      "execution_count": null,
      "outputs": []
    },
    {
      "cell_type": "markdown",
      "source": [
        "## Task 1. RNA Family Clustering"
      ],
      "metadata": {
        "id": "n4f28w4cBMUd"
      }
    },
    {
      "cell_type": "markdown",
      "source": [
        "### Load data"
      ],
      "metadata": {
        "id": "wSa3VO1uBVoT"
      }
    },
    {
      "cell_type": "code",
      "source": [
        "# load fasta data\n",
        "fasta_paths = list(Path(data_dir).glob('RF*.fasta'))\n",
        "fasta_paths.sort()\n",
        "print(fasta_paths)"
      ],
      "metadata": {
        "id": "ZxkoDEJYUS-z",
        "execution": {
          "iopub.status.busy": "2024-05-28T08:57:18.868189Z",
          "iopub.execute_input": "2024-05-28T08:57:18.868554Z",
          "iopub.status.idle": "2024-05-28T08:57:18.875435Z",
          "shell.execute_reply.started": "2024-05-28T08:57:18.868524Z",
          "shell.execute_reply": "2024-05-28T08:57:18.874384Z"
        },
        "trusted": true
      },
      "execution_count": null,
      "outputs": []
    },
    {
      "cell_type": "code",
      "source": [
        "rfam_list = []  # list of RNA families\n",
        "\n",
        "seqs = []  # list of two-element tuples [(sequence ID, sequence),]\n",
        "labels = []  # list of labels correspond to each entry in the seqs list, the labels are the RNA families\n",
        "\n",
        "for fasta_path in fasta_paths:\n",
        "    rfam = fasta_path.stem\n",
        "    rfam_list.append(rfam)\n",
        "    print(rfam)\n",
        "\n",
        "    records = list(SeqIO.parse(fasta_path, 'fasta'))\n",
        "\n",
        "    fasta_seqs = [str(record.seq) for record in records]\n",
        "    fasta_seq_names = [record.id for record in records]\n",
        "\n",
        "    seqs += [(seq_name, seq) for seq_name, seq in zip(fasta_seq_names, fasta_seqs)]\n",
        "\n",
        "    labels += [rfam] * len(fasta_seq_names)\n",
        "\n",
        "    print(len(seqs), len(labels))"
      ],
      "metadata": {
        "id": "T9EHFsvuUoMH",
        "execution": {
          "iopub.status.busy": "2024-05-28T08:57:18.876642Z",
          "iopub.execute_input": "2024-05-28T08:57:18.876928Z",
          "iopub.status.idle": "2024-05-28T08:57:18.944729Z",
          "shell.execute_reply.started": "2024-05-28T08:57:18.876905Z",
          "shell.execute_reply": "2024-05-28T08:57:18.943623Z"
        },
        "trusted": true
      },
      "execution_count": null,
      "outputs": []
    },
    {
      "cell_type": "code",
      "source": [
        "# examine the data\n",
        "print(seqs[:2])"
      ],
      "metadata": {
        "id": "4oN1RMAuZvwA",
        "execution": {
          "iopub.status.busy": "2024-05-28T08:57:18.946159Z",
          "iopub.execute_input": "2024-05-28T08:57:18.94665Z",
          "iopub.status.idle": "2024-05-28T08:57:18.951706Z",
          "shell.execute_reply.started": "2024-05-28T08:57:18.946616Z",
          "shell.execute_reply": "2024-05-28T08:57:18.950669Z"
        },
        "trusted": true
      },
      "execution_count": null,
      "outputs": []
    },
    {
      "cell_type": "markdown",
      "source": [
        "### Load the pretrained model"
      ],
      "metadata": {
        "id": "YELqpHoxBX_0"
      }
    },
    {
      "cell_type": "code",
      "source": [
        "# !gdown 1zflX5hHTxuwqcZm6A1npq7ubP8m7LdNX"
      ],
      "metadata": {
        "id": "bR9pTFeXPt8_",
        "execution": {
          "iopub.status.busy": "2024-05-28T08:57:18.952896Z",
          "iopub.execute_input": "2024-05-28T08:57:18.95315Z",
          "iopub.status.idle": "2024-05-28T08:57:18.962185Z",
          "shell.execute_reply.started": "2024-05-28T08:57:18.953127Z",
          "shell.execute_reply": "2024-05-28T08:57:18.961321Z"
        },
        "trusted": true
      },
      "execution_count": null,
      "outputs": []
    },
    {
      "cell_type": "code",
      "source": [
        "# Load RNA-FM model\n",
        "fm_model, alphabet = fm.pretrained.rna_fm_t12(Path(data_dir, 'RNA-FM_pretrained.pth'))\n",
        "batch_converter = alphabet.get_batch_converter()\n",
        "\n",
        "fm_model.to(device)  # use GPU if available\n",
        "\n",
        "fm_model.eval()  # disables dropout for deterministic results"
      ],
      "metadata": {
        "id": "pjh3_SmKWu6q",
        "execution": {
          "iopub.status.busy": "2024-05-28T08:57:18.963374Z",
          "iopub.execute_input": "2024-05-28T08:57:18.963639Z",
          "iopub.status.idle": "2024-05-28T08:57:32.89206Z",
          "shell.execute_reply.started": "2024-05-28T08:57:18.963617Z",
          "shell.execute_reply": "2024-05-28T08:57:32.891072Z"
        },
        "trusted": true
      },
      "execution_count": null,
      "outputs": []
    },
    {
      "cell_type": "markdown",
      "source": [
        "### Retrieve RNA-FM embeddings"
      ],
      "metadata": {
        "id": "8xlkZNMFBdBc"
      }
    },
    {
      "cell_type": "code",
      "source": [
        "chunk_size = 20\n",
        "\n",
        "# pre-allocate the space to save memory\n",
        "token_embeddings = np.zeros((len(labels), 1024, 640))\n",
        "\n",
        "# divide all the sequences into chunks for processing due to the GPU memory limit\n",
        "for i in tqdm(range(0, len(seqs), chunk_size)):\n",
        "    data = seqs[i:i+chunk_size]\n",
        "\n",
        "    batch_labels, batch_strs, batch_tokens = batch_converter(data)\n",
        "\n",
        "    # use GPU\n",
        "    with torch.no_grad():\n",
        "        results = fm_model(batch_tokens.to(device), repr_layers=[12])\n",
        "\n",
        "    emb = results['representations'][12].cpu().numpy()\n",
        "\n",
        "    token_embeddings[i:i+chunk_size, :emb.shape[1], :] = emb\n",
        "\n",
        "\n",
        "print(token_embeddings.shape)"
      ],
      "metadata": {
        "id": "YHCET12fdB17",
        "execution": {
          "iopub.status.busy": "2024-05-28T08:57:32.893307Z",
          "iopub.execute_input": "2024-05-28T08:57:32.893611Z",
          "iopub.status.idle": "2024-05-28T08:57:51.632726Z",
          "shell.execute_reply.started": "2024-05-28T08:57:32.893586Z",
          "shell.execute_reply": "2024-05-28T08:57:51.631807Z"
        },
        "trusted": true
      },
      "execution_count": null,
      "outputs": []
    },
    {
      "cell_type": "markdown",
      "source": [
        "### Dimension reduction"
      ],
      "metadata": {
        "id": "brIEr7RGBiQ1"
      }
    },
    {
      "cell_type": "code",
      "source": [
        "token_embeddings = np.mean(token_embeddings, axis=1)\n",
        "\n",
        "print(token_embeddings.shape)"
      ],
      "metadata": {
        "id": "eFjCwdlHeNpq",
        "execution": {
          "iopub.status.busy": "2024-05-28T08:57:51.634034Z",
          "iopub.execute_input": "2024-05-28T08:57:51.63432Z",
          "iopub.status.idle": "2024-05-28T08:57:55.479089Z",
          "shell.execute_reply.started": "2024-05-28T08:57:51.634294Z",
          "shell.execute_reply": "2024-05-28T08:57:55.478035Z"
        },
        "trusted": true
      },
      "execution_count": null,
      "outputs": []
    },
    {
      "cell_type": "code",
      "source": [
        "# t-SNE\n",
        "tsne = TSNE(n_components=2, random_state=42)  # n_components is the dimension of the reduced data\n",
        "\n",
        "embeddings = tsne.fit_transform(token_embeddings)\n",
        "\n",
        "print(embeddings.shape)"
      ],
      "metadata": {
        "id": "VgBoYvYSteYX",
        "execution": {
          "iopub.status.busy": "2024-05-28T08:57:55.480221Z",
          "iopub.execute_input": "2024-05-28T08:57:55.48051Z",
          "iopub.status.idle": "2024-05-28T08:58:04.829747Z",
          "shell.execute_reply.started": "2024-05-28T08:57:55.480484Z",
          "shell.execute_reply": "2024-05-28T08:58:04.828705Z"
        },
        "trusted": true
      },
      "execution_count": null,
      "outputs": []
    },
    {
      "cell_type": "markdown",
      "source": [
        "### Visualization"
      ],
      "metadata": {
        "id": "kOSrOTj3Bmko"
      }
    },
    {
      "cell_type": "code",
      "source": [
        "colors = ['tab:blue', 'tab:orange', 'tab:red']\n",
        "rfam_dict = {'RF00001': '5S_rRNA', 'RF00005': 'tRNA', 'RF00010': 'RNaseP_bact_a'}  # map the Rfam index to name\n",
        "\n",
        "plt.figure(figsize=(8, 8))\n",
        "\n",
        "for i, label in enumerate(sorted(list(set(labels)))):\n",
        "    # find the data points corresponding to the current label\n",
        "    indices = [j for j, l in enumerate(labels) if l == label]\n",
        "    plt.scatter(embeddings[indices, 0], embeddings[indices, 1], color=colors[i], s=5, alpha=0.5, label=rfam_dict[label])\n",
        "\n",
        "\n",
        "plt.legend()\n",
        "plt.xticks([])\n",
        "plt.yticks([])\n",
        "\n",
        "plt.show()"
      ],
      "metadata": {
        "id": "t-LhpSNZlXny",
        "execution": {
          "iopub.status.busy": "2024-05-28T08:58:04.834388Z",
          "iopub.execute_input": "2024-05-28T08:58:04.8347Z",
          "iopub.status.idle": "2024-05-28T08:58:05.330278Z",
          "shell.execute_reply.started": "2024-05-28T08:58:04.834673Z",
          "shell.execute_reply": "2024-05-28T08:58:05.329215Z"
        },
        "trusted": true
      },
      "execution_count": null,
      "outputs": []
    },
    {
      "cell_type": "markdown",
      "source": [
        "## Task 2. RNA Type Classification"
      ],
      "metadata": {
        "id": "fxTn0apOBxn7"
      }
    },
    {
      "cell_type": "markdown",
      "source": [
        "### Load data"
      ],
      "metadata": {
        "id": "S7QfOf5RCOd8"
      }
    },
    {
      "cell_type": "code",
      "source": [
        "fasta_path = Path(data_dir, 'format_rnacentral_active.100.sample-Max50.fasta')\n",
        "\n",
        "records = list(SeqIO.parse(fasta_path, 'fasta'))\n",
        "\n",
        "fasta_seqs = [str(record.seq) for record in records]\n",
        "fasta_seq_names = [record.id for record in records]\n",
        "\n",
        "print(len(fasta_seqs), len(fasta_seq_names))\n",
        "\n",
        "labels = [record.description.split()[1] for record in records]\n",
        "\n",
        "seqs = [(seq_name, seq) for seq_name, seq in zip(fasta_seq_names, fasta_seqs)]\n",
        "\n",
        "num_class = len(set(labels))\n",
        "\n",
        "print(len(seqs), len(labels))\n",
        "print(f'number of classes: {len(set(labels))}')\n",
        "\n",
        "label_to_num = {'miRNA': 0, 'snRNA': 1, 'other': 2, 'hammerhead_ribozyme': 3,\n",
        "                'telomerase_RNA': 4, 'antisense_RNA': 5, 'precursor_RNA': 6,\n",
        "                'tRNA': 7, 'snoRNA': 8, 'RNase_P_RNA': 9, 'pre_miRNA': 10,\n",
        "                'misc_RNA': 11, 'rRNA': 12, 'siRNA': 13, 'vault_RNA': 14,\n",
        "                'autocatalytically_spliced_intron': 15, 'guide_RNA': 16,\n",
        "                'Y_RNA': 17, 'scRNA': 18, 'sRNA': 19, 'scaRNA': 20,\n",
        "                'RNase_MRP_RNA': 21, 'tmRNA': 22, 'lncRNA': 23, 'ncRNA': 24,\n",
        "                'piRNA': 25, 'ribozyme': 26, 'SRP_RNA': 27}\n",
        "\n",
        "labels = [label_to_num[label] for label in labels]"
      ],
      "metadata": {
        "id": "eUmgTnNtlg8z",
        "execution": {
          "iopub.status.busy": "2024-05-28T08:58:05.331674Z",
          "iopub.execute_input": "2024-05-28T08:58:05.332017Z",
          "iopub.status.idle": "2024-05-28T08:58:05.369215Z",
          "shell.execute_reply.started": "2024-05-28T08:58:05.331989Z",
          "shell.execute_reply": "2024-05-28T08:58:05.368418Z"
        },
        "trusted": true
      },
      "execution_count": null,
      "outputs": []
    },
    {
      "cell_type": "markdown",
      "source": [
        "### Retrieve RNA-FM embeddings"
      ],
      "metadata": {
        "id": "Ja-VeY3PDMyr"
      }
    },
    {
      "cell_type": "markdown",
      "source": [
        "You don't need to download it again if you have already done so for the previous task."
      ],
      "metadata": {
        "id": "QKq77EHDgEWk"
      }
    },
    {
      "cell_type": "code",
      "source": [
        "# !gdown 1zflX5hHTxuwqcZm6A1npq7ubP8m7LdNX  # for Colab only"
      ],
      "metadata": {
        "id": "B8jfdGVsgECP",
        "execution": {
          "iopub.status.busy": "2024-05-28T08:58:05.370413Z",
          "iopub.execute_input": "2024-05-28T08:58:05.370703Z",
          "iopub.status.idle": "2024-05-28T08:58:05.37466Z",
          "shell.execute_reply.started": "2024-05-28T08:58:05.37068Z",
          "shell.execute_reply": "2024-05-28T08:58:05.373779Z"
        },
        "trusted": true
      },
      "execution_count": null,
      "outputs": []
    },
    {
      "cell_type": "code",
      "source": [
        "# Load RNA-FM model\n",
        "fm_model, alphabet = fm.pretrained.rna_fm_t12(Path(data_dir, 'RNA-FM_pretrained.pth'))\n",
        "batch_converter = alphabet.get_batch_converter()\n",
        "\n",
        "fm_model.to(device)\n",
        "\n",
        "fm_model.eval()  # disables dropout for deterministic results"
      ],
      "metadata": {
        "id": "U6gcN7010BUD",
        "execution": {
          "iopub.status.busy": "2024-05-28T08:58:05.37595Z",
          "iopub.execute_input": "2024-05-28T08:58:05.37668Z",
          "iopub.status.idle": "2024-05-28T08:58:07.423216Z",
          "shell.execute_reply.started": "2024-05-28T08:58:05.376648Z",
          "shell.execute_reply": "2024-05-28T08:58:07.42227Z"
        },
        "trusted": true
      },
      "execution_count": null,
      "outputs": []
    },
    {
      "cell_type": "code",
      "source": [
        "chunk_size = 50\n",
        "\n",
        "# pre-allocate the space to save memory\n",
        "token_embeddings = np.zeros((len(labels), 1024, 640))\n",
        "\n",
        "# divide all the sequences into chunks for processing due to the GPU memory limit\n",
        "for i in tqdm(range(0, len(seqs), chunk_size)):\n",
        "    data = seqs[i:i+chunk_size]\n",
        "\n",
        "    batch_labels, batch_strs, batch_tokens = batch_converter(data)\n",
        "\n",
        "    # use GPU\n",
        "    with torch.no_grad():\n",
        "        results = fm_model(batch_tokens.to(device), repr_layers=[12])\n",
        "\n",
        "    emb = results[\"representations\"][12].cpu().numpy()\n",
        "\n",
        "    token_embeddings[i:i+chunk_size, :emb.shape[1], :] = emb\n",
        "\n",
        "\n",
        "print(token_embeddings.shape)"
      ],
      "metadata": {
        "id": "QrusK81_BxDd",
        "execution": {
          "iopub.status.busy": "2024-05-28T08:58:07.424555Z",
          "iopub.execute_input": "2024-05-28T08:58:07.424855Z",
          "iopub.status.idle": "2024-05-28T08:58:41.676618Z",
          "shell.execute_reply.started": "2024-05-28T08:58:07.42483Z",
          "shell.execute_reply": "2024-05-28T08:58:41.675667Z"
        },
        "trusted": true
      },
      "execution_count": null,
      "outputs": []
    },
    {
      "cell_type": "markdown",
      "source": [
        "### Construct the dataset and classifier"
      ],
      "metadata": {
        "id": "A2UR4iUSDg52"
      }
    },
    {
      "cell_type": "code",
      "source": [
        "class RNATypeDataset(Dataset):\n",
        "    def __init__(self, embeddings, labels):\n",
        "        self.embeddings = embeddings\n",
        "        self.labels = labels\n",
        "\n",
        "    def __len__(self):\n",
        "        return len(self.labels)\n",
        "\n",
        "    def __getitem__(self, idx):\n",
        "        # use the mean of the RNA-FM embedding along the sequence dimension\n",
        "        # so that all the embeddings are converted from (L, 640) -> (640,)\n",
        "        return np.mean(self.embeddings[idx], axis=0), self.labels[idx]"
      ],
      "metadata": {
        "id": "hPk5lxOEDjc6",
        "execution": {
          "iopub.status.busy": "2024-05-28T08:58:41.67782Z",
          "iopub.execute_input": "2024-05-28T08:58:41.678098Z",
          "iopub.status.idle": "2024-05-28T08:58:41.683955Z",
          "shell.execute_reply.started": "2024-05-28T08:58:41.678074Z",
          "shell.execute_reply": "2024-05-28T08:58:41.682995Z"
        },
        "trusted": true
      },
      "execution_count": null,
      "outputs": []
    },
    {
      "cell_type": "code",
      "source": [
        "class RNATypeClassifier(nn.Module):\n",
        "    def __init__(self, num_class):\n",
        "        super().__init__()\n",
        "        self.fc = nn.Linear(640, num_class)\n",
        "\n",
        "    def forward(self, x):\n",
        "        x = self.fc(x)\n",
        "\n",
        "        return x"
      ],
      "metadata": {
        "id": "qkhcOcS2BxGm",
        "execution": {
          "iopub.status.busy": "2024-05-28T08:58:41.685052Z",
          "iopub.execute_input": "2024-05-28T08:58:41.685309Z",
          "iopub.status.idle": "2024-05-28T08:58:41.697385Z",
          "shell.execute_reply.started": "2024-05-28T08:58:41.685288Z",
          "shell.execute_reply": "2024-05-28T08:58:41.69659Z"
        },
        "trusted": true
      },
      "execution_count": null,
      "outputs": []
    },
    {
      "cell_type": "code",
      "source": [
        "# each class have 50 samples, use 30 for train, 10 for val, and 10 for test (achieved by using stratify)\n",
        "x_train_val, x_test, y_train_val, y_test = train_test_split(token_embeddings, labels,\n",
        "                                                            test_size=0.2, random_state=42, stratify=labels)\n",
        "\n",
        "x_train, x_val, y_train, y_val = train_test_split(x_train_val, y_train_val,\n",
        "                                                  test_size=0.2, random_state=42, stratify=y_train_val)\n",
        "\n",
        "print(x_train.shape, x_val.shape, x_test.shape)"
      ],
      "metadata": {
        "id": "5i6-EYmwDfI2",
        "execution": {
          "iopub.status.busy": "2024-05-28T08:58:41.698362Z",
          "iopub.execute_input": "2024-05-28T08:58:41.698606Z",
          "iopub.status.idle": "2024-05-28T08:58:46.790969Z",
          "shell.execute_reply.started": "2024-05-28T08:58:41.698585Z",
          "shell.execute_reply": "2024-05-28T08:58:46.790038Z"
        },
        "trusted": true
      },
      "execution_count": null,
      "outputs": []
    },
    {
      "cell_type": "code",
      "source": [
        "def class_distribution(labels):\n",
        "    classes, counts = np.unique(labels, return_counts=True)\n",
        "    distribution = counts / counts.sum()\n",
        "    return dict(zip(classes, distribution))\n",
        "\n",
        "\n",
        "train_dist = class_distribution(y_train)\n",
        "val_dist = class_distribution(y_val)\n",
        "test_dist = class_distribution(y_test)\n",
        "\n",
        "print(train_dist)\n",
        "print(val_dist)\n",
        "print(test_dist)"
      ],
      "metadata": {
        "id": "kvpLRx_cGjtD",
        "execution": {
          "iopub.status.busy": "2024-05-28T08:58:46.792277Z",
          "iopub.execute_input": "2024-05-28T08:58:46.792948Z",
          "iopub.status.idle": "2024-05-28T08:58:46.801155Z",
          "shell.execute_reply.started": "2024-05-28T08:58:46.792914Z",
          "shell.execute_reply": "2024-05-28T08:58:46.800216Z"
        },
        "trusted": true
      },
      "execution_count": null,
      "outputs": []
    },
    {
      "cell_type": "code",
      "source": [
        "# hyper-parameters\n",
        "\n",
        "batch_size = 8\n",
        "lr = 1e-3\n",
        "epochs = 100"
      ],
      "metadata": {
        "id": "T9T2nHK6IWR0",
        "execution": {
          "iopub.status.busy": "2024-05-28T08:58:46.802213Z",
          "iopub.execute_input": "2024-05-28T08:58:46.802489Z",
          "iopub.status.idle": "2024-05-28T08:58:46.820034Z",
          "shell.execute_reply.started": "2024-05-28T08:58:46.802466Z",
          "shell.execute_reply": "2024-05-28T08:58:46.819169Z"
        },
        "trusted": true
      },
      "execution_count": null,
      "outputs": []
    },
    {
      "cell_type": "code",
      "source": [
        "train_dataset = RNATypeDataset(x_train, y_train)\n",
        "val_dataset = RNATypeDataset(x_val, y_val)\n",
        "test_dataset = RNATypeDataset(x_test, y_test)\n",
        "\n",
        "train_loader = DataLoader(train_dataset, batch_size=batch_size, shuffle=True)\n",
        "val_loader = DataLoader(val_dataset, batch_size=batch_size, shuffle=False)\n",
        "test_loader = DataLoader(test_dataset, batch_size=batch_size, shuffle=False)"
      ],
      "metadata": {
        "id": "aldfo7Y4HJnv",
        "execution": {
          "iopub.status.busy": "2024-05-28T08:58:46.821059Z",
          "iopub.execute_input": "2024-05-28T08:58:46.821374Z",
          "iopub.status.idle": "2024-05-28T08:58:46.830961Z",
          "shell.execute_reply.started": "2024-05-28T08:58:46.82133Z",
          "shell.execute_reply": "2024-05-28T08:58:46.830067Z"
        },
        "trusted": true
      },
      "execution_count": null,
      "outputs": []
    },
    {
      "cell_type": "code",
      "source": [
        "model = RNATypeClassifier(num_class).to(device)\n",
        "print(model)\n",
        "\n",
        "criterion = nn.CrossEntropyLoss()\n",
        "\n",
        "optimizer = torch.optim.Adam(model.parameters(), lr=lr)"
      ],
      "metadata": {
        "id": "hSIvXw7SIbET",
        "execution": {
          "iopub.status.busy": "2024-05-28T08:58:46.831905Z",
          "iopub.execute_input": "2024-05-28T08:58:46.833864Z",
          "iopub.status.idle": "2024-05-28T08:58:46.843621Z",
          "shell.execute_reply.started": "2024-05-28T08:58:46.83384Z",
          "shell.execute_reply": "2024-05-28T08:58:46.84274Z"
        },
        "trusted": true
      },
      "execution_count": null,
      "outputs": []
    },
    {
      "cell_type": "markdown",
      "source": [
        "### Train the model"
      ],
      "metadata": {
        "id": "ypjZGoZYH_zR"
      }
    },
    {
      "cell_type": "code",
      "source": [
        "max_val_acc = -1\n",
        "best_epoch = -1\n",
        "\n",
        "train_loss_history = []\n",
        "val_loss_history = []\n",
        "\n",
        "train_acc_history = []\n",
        "val_acc_history = []\n",
        "\n",
        "for epoch in tqdm(range(epochs)):\n",
        "\n",
        "    # train the model\n",
        "    train_losses = []\n",
        "    train_preds = []\n",
        "    train_targets = []\n",
        "\n",
        "    model.train()\n",
        "\n",
        "    for batch in train_loader:\n",
        "        x, y = batch\n",
        "        x, y = x.to(device).float(), y.to(device).long()\n",
        "\n",
        "        # no need to apply the softmax function since it has been included in the loss function\n",
        "        y_pred = model(x)\n",
        "\n",
        "        # y_pred: (B, C) with class probabilities, y shape: (B,) with class indices\n",
        "        loss = criterion(y_pred, y)\n",
        "\n",
        "        train_losses.append(loss.item())\n",
        "        train_preds.append(torch.max(y_pred.detach(),1)[1])\n",
        "        train_targets.append(y)\n",
        "\n",
        "        optimizer.zero_grad()\n",
        "        loss.backward()\n",
        "        optimizer.step()\n",
        "\n",
        "    # validate the model\n",
        "    val_losses = []\n",
        "    val_preds = []\n",
        "    val_targets = []\n",
        "\n",
        "    model.eval()\n",
        "\n",
        "    for batch in val_loader:\n",
        "        x, y = batch\n",
        "        x, y = x.to(device).float(), y.to(device).long()\n",
        "\n",
        "        y_pred = model(x)\n",
        "\n",
        "        # y_pred: (B, C) with class probabilities, y shape: (B,) with class indices\n",
        "        loss = criterion(y_pred, y)\n",
        "\n",
        "        val_losses.append(loss.item())\n",
        "        val_preds.append(torch.max(y_pred.detach(),1)[1])\n",
        "        val_targets.append(y)\n",
        "\n",
        "    # calculate the accuracy\n",
        "    train_preds = torch.cat(train_preds, dim=0)\n",
        "    train_targets = torch.cat(train_targets, dim=0)\n",
        "    train_acc = (train_preds == train_targets).float().mean().cpu()\n",
        "\n",
        "    val_preds = torch.cat(val_preds, dim=0)\n",
        "    val_targets = torch.cat(val_targets, dim=0)\n",
        "    val_acc = (val_preds == val_targets).float().mean().cpu()\n",
        "\n",
        "    train_acc_history.append(train_acc)\n",
        "    val_acc_history.append(val_acc)\n",
        "\n",
        "    # save the model checkpoint for the best validation accuracy\n",
        "    if val_acc > max_val_acc:\n",
        "        torch.save({'model_state_dict': model.state_dict()}, 'rna_type_checkpoint.pt')\n",
        "        best_epoch = epoch\n",
        "        max_val_acc = val_acc\n",
        "\n",
        "    # show intermediate steps\n",
        "    if epoch % 20 == 0:\n",
        "        tqdm.write(f'epoch {epoch}/{epochs}: train loss={np.mean(train_loss_history):.6f}, '\n",
        "                   f'train acc={train_acc:.6f}, '\n",
        "                   f'val loss={np.mean(val_loss_history):.6f}, '\n",
        "                   f'val acc={val_acc:.6f}')\n",
        "\n",
        "    train_loss_history.append(np.mean(train_losses))\n",
        "    val_loss_history.append(np.mean(val_losses))"
      ],
      "metadata": {
        "id": "S1D7_PbmHntP",
        "execution": {
          "iopub.status.busy": "2024-05-28T08:58:46.844684Z",
          "iopub.execute_input": "2024-05-28T08:58:46.844952Z",
          "iopub.status.idle": "2024-05-28T09:00:07.59208Z",
          "shell.execute_reply.started": "2024-05-28T08:58:46.844921Z",
          "shell.execute_reply": "2024-05-28T09:00:07.591052Z"
        },
        "trusted": true
      },
      "execution_count": null,
      "outputs": []
    },
    {
      "cell_type": "markdown",
      "source": [
        "### Visualize training results"
      ],
      "metadata": {
        "id": "gsJ7UkZU2mra"
      }
    },
    {
      "cell_type": "code",
      "source": [
        "plt.figure(figsize=(8, 6))\n",
        "\n",
        "plt.plot(train_loss_history, label='train loss')\n",
        "plt.plot(val_loss_history, label='val loss')\n",
        "\n",
        "# the epoch with best validation loss\n",
        "plt.axvline(x=best_epoch, color='r', linestyle='--', alpha=0.8)\n",
        "\n",
        "plt.xlabel('Epochs')\n",
        "plt.ylabel('Loss')\n",
        "plt.title('Loss History')\n",
        "\n",
        "plt.legend()\n",
        "\n",
        "plt.show()"
      ],
      "metadata": {
        "id": "mjJckdmZiGnz",
        "execution": {
          "iopub.status.busy": "2024-05-28T09:00:07.593579Z",
          "iopub.execute_input": "2024-05-28T09:00:07.593951Z",
          "iopub.status.idle": "2024-05-28T09:00:07.902493Z",
          "shell.execute_reply.started": "2024-05-28T09:00:07.593917Z",
          "shell.execute_reply": "2024-05-28T09:00:07.90171Z"
        },
        "trusted": true
      },
      "execution_count": null,
      "outputs": []
    },
    {
      "cell_type": "code",
      "source": [
        "plt.figure(figsize=(8, 6))\n",
        "\n",
        "plt.plot(train_acc_history, label='train accuracy')\n",
        "plt.plot(val_acc_history, label='val accuracy')\n",
        "\n",
        "# the epoch with best validation accuracy\n",
        "plt.axvline(x=best_epoch, color='r', linestyle='--', alpha=0.8)\n",
        "\n",
        "plt.xlabel('Epochs')\n",
        "plt.ylabel('Accuracy')\n",
        "plt.title('Accuracy History')\n",
        "\n",
        "plt.legend()\n",
        "\n",
        "plt.show()"
      ],
      "metadata": {
        "id": "6GVW2-wn2pxC",
        "execution": {
          "iopub.status.busy": "2024-05-28T09:00:07.903589Z",
          "iopub.execute_input": "2024-05-28T09:00:07.903893Z",
          "iopub.status.idle": "2024-05-28T09:00:08.174758Z",
          "shell.execute_reply.started": "2024-05-28T09:00:07.903867Z",
          "shell.execute_reply": "2024-05-28T09:00:08.173833Z"
        },
        "trusted": true
      },
      "execution_count": null,
      "outputs": []
    },
    {
      "cell_type": "markdown",
      "source": [
        "### Test the model"
      ],
      "metadata": {
        "id": "WXCDoKK6IO6t"
      }
    },
    {
      "cell_type": "code",
      "source": [
        "# test the model\n",
        "test_preds = []\n",
        "\n",
        "model.load_state_dict(torch.load('rna_type_checkpoint.pt')['model_state_dict'])\n",
        "\n",
        "model.eval()\n",
        "\n",
        "for batch in test_loader:\n",
        "    x, y = batch\n",
        "    x, y = x.to(device).float(), y.to(device).long()\n",
        "\n",
        "    output = model(x)\n",
        "\n",
        "    _, y_pred = torch.max(output.data, 1)  # argmax in y_pred\n",
        "    # print(y_pred.shape)\n",
        "\n",
        "    test_preds.append(y_pred.cpu().numpy())\n",
        "\n",
        "\n",
        "test_preds = np.concatenate(test_preds)\n",
        "\n",
        "total = len(y_test)\n",
        "correct = np.sum(test_preds == y_test)\n",
        "\n",
        "print(f'total number of test data: {total}, correct={correct}, test acc={correct/total:.4f}')"
      ],
      "metadata": {
        "id": "RZ3MA0riIQgx",
        "execution": {
          "iopub.status.busy": "2024-05-28T09:00:08.175996Z",
          "iopub.execute_input": "2024-05-28T09:00:08.176376Z",
          "iopub.status.idle": "2024-05-28T09:00:08.370867Z",
          "shell.execute_reply.started": "2024-05-28T09:00:08.176326Z",
          "shell.execute_reply": "2024-05-28T09:00:08.369855Z"
        },
        "trusted": true
      },
      "execution_count": null,
      "outputs": []
    },
    {
      "cell_type": "markdown",
      "source": [
        "### Applying RNA-FM for other intersting downstream tasks?\n",
        "\n",
        "The general workflow is the same as above:\n",
        "- get your sequence,\n",
        "- generate the FM embeddings, and\n",
        "- use the FM embeddings as inputs to your own downstream model.\n",
        "\n",
        "In the above example, we have only used one fully-connected layer in our downstream model. However, as the problem becomes more complex and the dataset's size grows, we can also adopt more sophisticated models or combine the embeddings with other data to further improve the performance."
      ],
      "metadata": {
        "id": "PieC2luEXS2Q"
      }
    },
    {
      "cell_type": "code",
      "source": [],
      "metadata": {
        "id": "I2wugbT0XS2Q"
      },
      "execution_count": null,
      "outputs": []
    }
  ]
}